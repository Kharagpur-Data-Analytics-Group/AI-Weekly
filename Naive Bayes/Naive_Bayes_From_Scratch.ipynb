{
  "nbformat": 4,
  "nbformat_minor": 5,
  "metadata": {
    "kernelspec": {
      "display_name": "Python 3",
      "language": "python",
      "name": "python3"
    },
    "language_info": {
      "codemirror_mode": {
        "name": "ipython",
        "version": 3
      },
      "file_extension": ".py",
      "mimetype": "text/x-python",
      "name": "python",
      "nbconvert_exporter": "python",
      "pygments_lexer": "ipython3",
      "version": "3.8.8"
    },
    "colab": {
      "name": "KDAG Naive bayes.ipynb",
      "provenance": []
    }
  },
  "cells": [
    {
      "cell_type": "code",
      "metadata": {
        "id": "52aec5f1"
      },
      "source": [
        "#importing the libraries\n",
        "import numpy as np\n",
        "import pandas as pd\n",
        "import csv\n",
        "import math"
      ],
      "id": "52aec5f1",
      "execution_count": null,
      "outputs": []
    },
    {
      "cell_type": "code",
      "metadata": {
        "id": "e76ff683"
      },
      "source": [
        "# Creating a dictionary\n",
        "def fit(X_train, Y_train):\n",
        "    result = {}\n",
        "    class_values = set(Y_train)   # Taking the set of all classes available in the target\n",
        "    for current_class in class_values:\n",
        "        result[current_class] = {}\n",
        "        result[\"total_data_pts\"] = len(Y_train)    # Storing the length of Y_train\n",
        "        current_class_rows = (Y_train == current_class)\n",
        "        X_train_current = X_train[current_class_rows]\n",
        "        Y_train_current = Y_train[current_class_rows]\n",
        "        num_features = X_train.shape[1]\n",
        "        result[current_class][\"total_count\"] = len(Y_train_current)  # Storing the count of a particular class in Y_train\n",
        "        for j in range(1, num_features + 1):\n",
        "            result[current_class][j] = {}\n",
        "            # storing mean and standard deviation of a particular feature of a particular class\n",
        "            result[current_class][j][\"mean\"] = np.mean(X_train_current[:, j - 1])\n",
        "            result[current_class][j][\"stdev\"] = np.std(X_train_current[:, j - 1])\n",
        "\n",
        "    return result"
      ],
      "id": "e76ff683",
      "execution_count": null,
      "outputs": []
    },
    {
      "cell_type": "markdown",
      "metadata": {
        "id": "6209b7a0"
      },
      "source": [
        "### The general form of Gaussian probability density function is\n",
        "![blob%20%286%29.jpeg](attachment:blob%20%286%29.jpeg)"
      ],
      "id": "6209b7a0"
    },
    {
      "cell_type": "code",
      "metadata": {
        "id": "1fe0f378"
      },
      "source": [
        "# finding the likelihood by assuming Gaussian distribution\n",
        "def Likelihood(x, mean, stdev):\n",
        "    exp = math.exp(-(math.pow(x-mean,2)/(2*math.pow(stdev,2))))\n",
        "    l = (1/(math.sqrt(2*math.pi)*stdev))*exp\n",
        "    return l"
      ],
      "id": "1fe0f378",
      "execution_count": null,
      "outputs": []
    },
    {
      "cell_type": "code",
      "metadata": {
        "id": "9e39737f"
      },
      "source": [
        "# taking logarithm to the probabilities to account for very small values.\n",
        "def probability(dictionary, x, current_class):\n",
        "    prior = np.log(dictionary[current_class][\"total_count\"]) - np.log(dictionary[\"total_data_pts\"])\n",
        "    output = prior\n",
        "    num_features = len(dictionary[current_class].keys()) - 1;\n",
        "    for j in range(1, num_features + 1):\n",
        "        value = x[j - 1]\n",
        "        Avg = dictionary[current_class][j][\"mean\"]\n",
        "        stand_deviation = dictionary[current_class][j][\"stdev\"]\n",
        "        current_value_probability = Likelihood(value, Avg, stand_deviation)\n",
        "        output = output + np.log(current_value_probability)\n",
        "    return output"
      ],
      "id": "9e39737f",
      "execution_count": null,
      "outputs": []
    },
    {
      "cell_type": "code",
      "metadata": {
        "id": "c73eff4d"
      },
      "source": [
        "# taking input of each data point from predictData\n",
        "def predict_class(dictionary, x):\n",
        "    classes = dictionary.keys()\n",
        "    best_p = -1000000   # assuming the best probability as low as possible to get updated at the first run\n",
        "    best_class = -1000\n",
        "    for current_class in classes:\n",
        "        if (current_class == \"total_data_pts\"):\n",
        "            continue\n",
        "        p_current_class = probability(dictionary, x, current_class)\n",
        "        if (p_current_class > best_p):\n",
        "            best_p = p_current_class       # updating the probability\n",
        "            best_class = current_class        # updating the class\n",
        "    return best_class"
      ],
      "id": "c73eff4d",
      "execution_count": null,
      "outputs": []
    },
    {
      "cell_type": "code",
      "metadata": {
        "id": "ebbfd2fe"
      },
      "source": [
        "# Analysing each of the X_data to predict the output \n",
        "def predictData(dictionary, X_test):\n",
        "    y_pred = []\n",
        "    for x in X_test:\n",
        "        x_class = predict_class(dictionary, x)\n",
        "        y_pred.append(x_class)\n",
        "    return y_pred"
      ],
      "id": "ebbfd2fe",
      "execution_count": null,
      "outputs": []
    },
    {
      "cell_type": "code",
      "metadata": {
        "id": "6ab4727f",
        "outputId": "0e8a668c-40d4-40b3-ec8a-318d2e8917f6"
      },
      "source": [
        "#Loadind the diabetes dataset\n",
        "dataset = pd.read_csv(\"Diabetes_RF.csv\")\n",
        "print(dataset.shape)\n",
        "# separating the data from the target attributes\n",
        "X = dataset.iloc[:,0:7].values\n",
        "Y = dataset.iloc[:,8].values"
      ],
      "id": "6ab4727f",
      "execution_count": null,
      "outputs": [
        {
          "name": "stdout",
          "output_type": "stream",
          "text": [
            "(768, 9)\n"
          ]
        }
      ]
    },
    {
      "cell_type": "code",
      "metadata": {
        "id": "8e44c2cd",
        "outputId": "4e7c5fe9-54d9-425c-e657-5f6f4757edf6"
      },
      "source": [
        "# displaying top 5 rows of the dataset\n",
        "dataset.head()"
      ],
      "id": "8e44c2cd",
      "execution_count": null,
      "outputs": [
        {
          "data": {
            "text/html": [
              "<div>\n",
              "<style scoped>\n",
              "    .dataframe tbody tr th:only-of-type {\n",
              "        vertical-align: middle;\n",
              "    }\n",
              "\n",
              "    .dataframe tbody tr th {\n",
              "        vertical-align: top;\n",
              "    }\n",
              "\n",
              "    .dataframe thead th {\n",
              "        text-align: right;\n",
              "    }\n",
              "</style>\n",
              "<table border=\"1\" class=\"dataframe\">\n",
              "  <thead>\n",
              "    <tr style=\"text-align: right;\">\n",
              "      <th></th>\n",
              "      <th>Number of times pregnant</th>\n",
              "      <th>Plasma glucose concentration</th>\n",
              "      <th>Diastolic blood pressure</th>\n",
              "      <th>Triceps skin fold thickness</th>\n",
              "      <th>2-Hour serum insulin</th>\n",
              "      <th>Body mass index</th>\n",
              "      <th>Diabetes pedigree function</th>\n",
              "      <th>Age (years)</th>\n",
              "      <th>Class variable</th>\n",
              "    </tr>\n",
              "  </thead>\n",
              "  <tbody>\n",
              "    <tr>\n",
              "      <th>0</th>\n",
              "      <td>6</td>\n",
              "      <td>148</td>\n",
              "      <td>72</td>\n",
              "      <td>35</td>\n",
              "      <td>0</td>\n",
              "      <td>33.6</td>\n",
              "      <td>0.627</td>\n",
              "      <td>50</td>\n",
              "      <td>YES</td>\n",
              "    </tr>\n",
              "    <tr>\n",
              "      <th>1</th>\n",
              "      <td>1</td>\n",
              "      <td>85</td>\n",
              "      <td>66</td>\n",
              "      <td>29</td>\n",
              "      <td>0</td>\n",
              "      <td>26.6</td>\n",
              "      <td>0.351</td>\n",
              "      <td>31</td>\n",
              "      <td>NO</td>\n",
              "    </tr>\n",
              "    <tr>\n",
              "      <th>2</th>\n",
              "      <td>8</td>\n",
              "      <td>183</td>\n",
              "      <td>64</td>\n",
              "      <td>0</td>\n",
              "      <td>0</td>\n",
              "      <td>23.3</td>\n",
              "      <td>0.672</td>\n",
              "      <td>32</td>\n",
              "      <td>YES</td>\n",
              "    </tr>\n",
              "    <tr>\n",
              "      <th>3</th>\n",
              "      <td>1</td>\n",
              "      <td>89</td>\n",
              "      <td>66</td>\n",
              "      <td>23</td>\n",
              "      <td>94</td>\n",
              "      <td>28.1</td>\n",
              "      <td>0.167</td>\n",
              "      <td>21</td>\n",
              "      <td>NO</td>\n",
              "    </tr>\n",
              "    <tr>\n",
              "      <th>4</th>\n",
              "      <td>0</td>\n",
              "      <td>137</td>\n",
              "      <td>40</td>\n",
              "      <td>35</td>\n",
              "      <td>168</td>\n",
              "      <td>43.1</td>\n",
              "      <td>2.288</td>\n",
              "      <td>33</td>\n",
              "      <td>YES</td>\n",
              "    </tr>\n",
              "  </tbody>\n",
              "</table>\n",
              "</div>"
            ],
            "text/plain": [
              "    Number of times pregnant   Plasma glucose concentration  \\\n",
              "0                          6                            148   \n",
              "1                          1                             85   \n",
              "2                          8                            183   \n",
              "3                          1                             89   \n",
              "4                          0                            137   \n",
              "\n",
              "    Diastolic blood pressure   Triceps skin fold thickness  \\\n",
              "0                         72                            35   \n",
              "1                         66                            29   \n",
              "2                         64                             0   \n",
              "3                         66                            23   \n",
              "4                         40                            35   \n",
              "\n",
              "    2-Hour serum insulin   Body mass index   Diabetes pedigree function  \\\n",
              "0                      0              33.6                        0.627   \n",
              "1                      0              26.6                        0.351   \n",
              "2                      0              23.3                        0.672   \n",
              "3                     94              28.1                        0.167   \n",
              "4                    168              43.1                        2.288   \n",
              "\n",
              "    Age (years)  Class variable  \n",
              "0            50             YES  \n",
              "1            31              NO  \n",
              "2            32             YES  \n",
              "3            21              NO  \n",
              "4            33             YES  "
            ]
          },
          "execution_count": 83,
          "metadata": {},
          "output_type": "execute_result"
        }
      ]
    },
    {
      "cell_type": "code",
      "metadata": {
        "scrolled": true,
        "id": "c22821ca"
      },
      "source": [
        "# splitting the data in 3:1 ratio for the training and testing, respectively\n",
        "from sklearn import model_selection\n",
        "X_train,X_test,Y_train,Y_test = model_selection.train_test_split(X,Y,test_size=0.25)"
      ],
      "id": "c22821ca",
      "execution_count": null,
      "outputs": []
    },
    {
      "cell_type": "code",
      "metadata": {
        "id": "3b1c5ff2"
      },
      "source": [
        "# fitting the model\n",
        "dictionary = fit(X_train,Y_train)"
      ],
      "id": "3b1c5ff2",
      "execution_count": null,
      "outputs": []
    },
    {
      "cell_type": "code",
      "metadata": {
        "id": "440b7d3f"
      },
      "source": [
        "# Making Predictions\n",
        "Y_predict = predictData(dictionary,X_test)"
      ],
      "id": "440b7d3f",
      "execution_count": null,
      "outputs": []
    },
    {
      "cell_type": "code",
      "metadata": {
        "id": "8f4d2d21",
        "outputId": "eacc939d-d678-48bd-b799-4834a9f9c70c"
      },
      "source": [
        "#Evaluation \n",
        "from sklearn import metrics\n",
        "from sklearn.metrics import classification_report, confusion_matrix\n",
        "import seaborn as sns\n",
        "import matplotlib.pyplot as plt\n",
        "cnf_matrix = metrics.confusion_matrix(Y_test,Y_predict)\n",
        "p = sns.heatmap(pd.DataFrame(cnf_matrix), annot=True, cmap=\"YlGnBu\" ,fmt='g')\n",
        "plt.title('Confusion matrix', y=1.1)\n",
        "plt.ylabel('Y_test')\n",
        "plt.xlabel('Y_predict')\n",
        "plt.show()\n"
      ],
      "id": "8f4d2d21",
      "execution_count": null,
      "outputs": [
        {
          "data": {
            "image/png": "[encoded data removed]",
            "text/plain": [
              "<Figure size 432x288 with 2 Axes>"
            ]
          },
          "metadata": {
            "needs_background": "light"
          },
          "output_type": "display_data"
        }
      ]
    },
    {
      "cell_type": "code",
      "metadata": {
        "id": "1ea998e1",
        "outputId": "dbbda5c5-f74a-4d89-d244-65f421fbc1bf"
      },
      "source": [
        "#classification report\n",
        "print(classification_report(Y_test,Y_predict))"
      ],
      "id": "1ea998e1",
      "execution_count": null,
      "outputs": [
        {
          "name": "stdout",
          "output_type": "stream",
          "text": [
            "              precision    recall  f1-score   support\n",
            "\n",
            "          NO       0.84      0.87      0.85       134\n",
            "         YES       0.67      0.62      0.64        58\n",
            "\n",
            "    accuracy                           0.79       192\n",
            "   macro avg       0.75      0.74      0.75       192\n",
            "weighted avg       0.79      0.79      0.79       192\n",
            "\n"
          ]
        }
      ]
    },
    {
      "cell_type": "code",
      "metadata": {
        "id": "2b14cc98"
      },
      "source": [
        ""
      ],
      "id": "2b14cc98",
      "execution_count": null,
      "outputs": []
    }
  ]
}